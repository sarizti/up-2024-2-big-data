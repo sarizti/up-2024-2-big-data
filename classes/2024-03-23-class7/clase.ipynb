{
 "cells": [
  {
   "cell_type": "code",
   "execution_count": 26,
   "id": "a2d4b42e099451fb",
   "metadata": {
    "collapsed": false,
    "ExecuteTime": {
     "end_time": "2024-03-23T13:00:22.800566Z",
     "start_time": "2024-03-23T13:00:18.482728Z"
    }
   },
   "outputs": [],
   "source": [
    "import mysql.connector\n",
    "import pandas as pd"
   ]
  },
  {
   "cell_type": "markdown",
   "source": [
    "Mysql Connector\n",
    "===============\n",
    "\n",
    "Python library for running queries in Mysql.\n",
    "\n",
    "To see examples visit [this page](https://dev.mysql.com/doc/connector-python/en/connector-python-example-connecting.html)\n",
    "\n",
    "If you prefer to use colab for this exersice go to [my notebook](https://colab.research.google.com/drive/1QR986lODGbbuiBVMkeFwaNQNxx9Wfc-T)\n"
   ],
   "metadata": {
    "collapsed": false
   },
   "id": "33a1f65021b2813d"
  },
  {
   "cell_type": "code",
   "outputs": [],
   "source": [
    "con = mysql.connector.connect(\n",
    "  host=\"35.193.209.4\",\n",
    "  user=\"up\",\n",
    "  password=\"secret\",\n",
    "  database=\"up_2024_2_big_data\"\n",
    ")\n",
    "cur = con.cursor()"
   ],
   "metadata": {
    "collapsed": true,
    "ExecuteTime": {
     "end_time": "2024-03-23T13:00:05.600383Z",
     "start_time": "2024-03-23T13:00:05.244479Z"
    }
   },
   "id": "initial_id",
   "execution_count": 25
  },
  {
   "cell_type": "code",
   "outputs": [
    {
     "name": "stdout",
     "output_type": "stream",
     "text": [
      "ARUBA has 1 articles in the store.\n",
      "IMOU has 1 articles in the store.\n",
      "BROTHER has 5 articles in the store.\n",
      "SPARKFUN has 1 articles in the store.\n",
      "DELL has 184 articles in the store.\n",
      "LINKEDPRO has 6 articles in the store.\n",
      "StarTech.com has 7 articles in the store.\n",
      "ACCO has 2 articles in the store.\n",
      "LITE-ON has 1 articles in the store.\n",
      "ALIEN has 2 articles in the store.\n"
     ]
    }
   ],
   "source": [
    "query = \"\"\"\n",
    "SELECT m.title, count(a.id) AS art_count\n",
    "FROM articles a\n",
    "JOIN manufacturers m ON m.id=a.manufacturer_id\n",
    "GROUP BY m.id\n",
    "LIMIT 10\n",
    "\"\"\"\n",
    "cur.execute(query)\n",
    "\n",
    "for (title, art_count) in cur:\n",
    "  print(f\"{title} has {art_count} articles in the store.\")\n"
   ],
   "metadata": {
    "collapsed": false,
    "ExecuteTime": {
     "end_time": "2024-03-23T12:48:18.323630Z",
     "start_time": "2024-03-23T12:48:18.261237Z"
    }
   },
   "id": "42ce4b91fbc5dadd",
   "execution_count": 21
  },
  {
   "cell_type": "code",
   "outputs": [
    {
     "data": {
      "text/plain": "          title  art_count\n0         ARUBA          1\n1          IMOU          1\n2       BROTHER          5\n3      SPARKFUN          1\n4          DELL        184\n5     LINKEDPRO          6\n6  StarTech.com          7\n7          ACCO          2\n8       LITE-ON          1\n9         ALIEN          2",
      "text/html": "<div>\n<style scoped>\n    .dataframe tbody tr th:only-of-type {\n        vertical-align: middle;\n    }\n\n    .dataframe tbody tr th {\n        vertical-align: top;\n    }\n\n    .dataframe thead th {\n        text-align: right;\n    }\n</style>\n<table border=\"1\" class=\"dataframe\">\n  <thead>\n    <tr style=\"text-align: right;\">\n      <th></th>\n      <th>title</th>\n      <th>art_count</th>\n    </tr>\n  </thead>\n  <tbody>\n    <tr>\n      <th>0</th>\n      <td>ARUBA</td>\n      <td>1</td>\n    </tr>\n    <tr>\n      <th>1</th>\n      <td>IMOU</td>\n      <td>1</td>\n    </tr>\n    <tr>\n      <th>2</th>\n      <td>BROTHER</td>\n      <td>5</td>\n    </tr>\n    <tr>\n      <th>3</th>\n      <td>SPARKFUN</td>\n      <td>1</td>\n    </tr>\n    <tr>\n      <th>4</th>\n      <td>DELL</td>\n      <td>184</td>\n    </tr>\n    <tr>\n      <th>5</th>\n      <td>LINKEDPRO</td>\n      <td>6</td>\n    </tr>\n    <tr>\n      <th>6</th>\n      <td>StarTech.com</td>\n      <td>7</td>\n    </tr>\n    <tr>\n      <th>7</th>\n      <td>ACCO</td>\n      <td>2</td>\n    </tr>\n    <tr>\n      <th>8</th>\n      <td>LITE-ON</td>\n      <td>1</td>\n    </tr>\n    <tr>\n      <th>9</th>\n      <td>ALIEN</td>\n      <td>2</td>\n    </tr>\n  </tbody>\n</table>\n</div>"
     },
     "execution_count": 30,
     "metadata": {},
     "output_type": "execute_result"
    }
   ],
   "source": [
    "cur.execute(query)\n",
    "rows = cur.fetchall()\n",
    "pd.DataFrame(rows, columns=('title', 'art_count'))"
   ],
   "metadata": {
    "collapsed": false,
    "ExecuteTime": {
     "end_time": "2024-03-23T13:02:21.990432Z",
     "start_time": "2024-03-23T13:02:21.921731Z"
    }
   },
   "id": "5a9d3bcb47519b13",
   "execution_count": 30
  },
  {
   "cell_type": "code",
   "outputs": [
    {
     "name": "stdout",
     "output_type": "stream",
     "text": [
      "HP has 298 products in the store.\n"
     ]
    }
   ],
   "source": [
    "brand = \"HP\"\n",
    "\n",
    "query = \"\"\"\n",
    "SELECT count(a.id) AS art_count\n",
    "FROM articles a\n",
    "JOIN manufacturers m ON m.id=a.manufacturer_id\n",
    "WHERE m.title=%s\n",
    "\"\"\"\n",
    "cur.execute(query, (brand,))\n",
    "\n",
    "art_count, = cur.fetchone()\n",
    "\n",
    "print(f\"{brand} has {art_count} products in the store.\")"
   ],
   "metadata": {
    "collapsed": false,
    "ExecuteTime": {
     "end_time": "2024-03-23T12:43:38.702468Z",
     "start_time": "2024-03-23T12:43:38.643954Z"
    }
   },
   "id": "8623dacfe7a87ad5",
   "execution_count": 16
  },
  {
   "cell_type": "code",
   "outputs": [
    {
     "data": {
      "text/plain": "[('HP', 298)]"
     },
     "execution_count": 14,
     "metadata": {},
     "output_type": "execute_result"
    }
   ],
   "source": [
    "cur.fetchall()"
   ],
   "metadata": {
    "collapsed": false,
    "ExecuteTime": {
     "end_time": "2024-03-23T12:42:57.884650Z",
     "start_time": "2024-03-23T12:42:57.878347Z"
    }
   },
   "id": "3c5020dd205b6166",
   "execution_count": 14
  },
  {
   "cell_type": "code",
   "outputs": [
    {
     "name": "stderr",
     "output_type": "stream",
     "text": [
      "/var/folders/wm/8pv7ys197v10bnggwxqnk2gm0000gn/T/ipykernel_51824/840457769.py:1: UserWarning: pandas only supports SQLAlchemy connectable (engine/connection) or database string URI or sqlite3 DBAPI2 connection. Other DBAPI2 objects are not tested. Please consider using SQLAlchemy.\n",
      "  pd.read_sql(\"SELECT * FROM manufacturers\", con=con)\n"
     ]
    },
    {
     "data": {
      "text/plain": "                                   id             title  \\\n0    0154761b1c93a51bff3d20a0d53c00ab             ARUBA   \n1    01d2f61fa66001f438aa2a65cb0aa9e5                V7   \n2    02c8fe42d2760f837ac115c0082f776b              IMOU   \n3    02fcda43ff79f7a45481a002cce98695          THORSMAN   \n4    03b9d9b7b907a3cb052b661ef03e1ed1           BROTHER   \n..                                ...               ...   \n310  fb3b2baacaae1eaea565f0f9f9153c23            UGREEN   \n311  fd976f550f84430dc88941effcf786ad             HONOR   \n312  fd97b533cb1e680670edf7a52af36c6a             BOSCH   \n313  fdd04bf8badf5a0f0f8b433a2f0fdce0  ELO TOUCHSYSTEMS   \n314  fe8b38e44ecd34fd0d8e084fb90778ed      TWELVE SOUTH   \n\n                                                  icon  \n0               storage/brands/hpe_aruba_r_pos_rgb.png  \n1                                storage/brands/v7.jpg  \n2    storage/brands/02c8fe42d2760f837ac115c0082f776...  \n3    storage/brands/02fcda43ff79f7a45481a002cce9869...  \n4                           storage/brands/brother.jpg  \n..                                                 ...  \n310                          storage/brands/ugreen.png  \n311                           storage/brands/HONOR.png  \n312  storage/brands/fd97b533cb1e680670edf7a52af36c6...  \n313                 storage/brands/elotouchsystems.png  \n314                     storage/brands/twelvesouth.png  \n\n[315 rows x 3 columns]",
      "text/html": "<div>\n<style scoped>\n    .dataframe tbody tr th:only-of-type {\n        vertical-align: middle;\n    }\n\n    .dataframe tbody tr th {\n        vertical-align: top;\n    }\n\n    .dataframe thead th {\n        text-align: right;\n    }\n</style>\n<table border=\"1\" class=\"dataframe\">\n  <thead>\n    <tr style=\"text-align: right;\">\n      <th></th>\n      <th>id</th>\n      <th>title</th>\n      <th>icon</th>\n    </tr>\n  </thead>\n  <tbody>\n    <tr>\n      <th>0</th>\n      <td>0154761b1c93a51bff3d20a0d53c00ab</td>\n      <td>ARUBA</td>\n      <td>storage/brands/hpe_aruba_r_pos_rgb.png</td>\n    </tr>\n    <tr>\n      <th>1</th>\n      <td>01d2f61fa66001f438aa2a65cb0aa9e5</td>\n      <td>V7</td>\n      <td>storage/brands/v7.jpg</td>\n    </tr>\n    <tr>\n      <th>2</th>\n      <td>02c8fe42d2760f837ac115c0082f776b</td>\n      <td>IMOU</td>\n      <td>storage/brands/02c8fe42d2760f837ac115c0082f776...</td>\n    </tr>\n    <tr>\n      <th>3</th>\n      <td>02fcda43ff79f7a45481a002cce98695</td>\n      <td>THORSMAN</td>\n      <td>storage/brands/02fcda43ff79f7a45481a002cce9869...</td>\n    </tr>\n    <tr>\n      <th>4</th>\n      <td>03b9d9b7b907a3cb052b661ef03e1ed1</td>\n      <td>BROTHER</td>\n      <td>storage/brands/brother.jpg</td>\n    </tr>\n    <tr>\n      <th>...</th>\n      <td>...</td>\n      <td>...</td>\n      <td>...</td>\n    </tr>\n    <tr>\n      <th>310</th>\n      <td>fb3b2baacaae1eaea565f0f9f9153c23</td>\n      <td>UGREEN</td>\n      <td>storage/brands/ugreen.png</td>\n    </tr>\n    <tr>\n      <th>311</th>\n      <td>fd976f550f84430dc88941effcf786ad</td>\n      <td>HONOR</td>\n      <td>storage/brands/HONOR.png</td>\n    </tr>\n    <tr>\n      <th>312</th>\n      <td>fd97b533cb1e680670edf7a52af36c6a</td>\n      <td>BOSCH</td>\n      <td>storage/brands/fd97b533cb1e680670edf7a52af36c6...</td>\n    </tr>\n    <tr>\n      <th>313</th>\n      <td>fdd04bf8badf5a0f0f8b433a2f0fdce0</td>\n      <td>ELO TOUCHSYSTEMS</td>\n      <td>storage/brands/elotouchsystems.png</td>\n    </tr>\n    <tr>\n      <th>314</th>\n      <td>fe8b38e44ecd34fd0d8e084fb90778ed</td>\n      <td>TWELVE SOUTH</td>\n      <td>storage/brands/twelvesouth.png</td>\n    </tr>\n  </tbody>\n</table>\n<p>315 rows × 3 columns</p>\n</div>"
     },
     "execution_count": 27,
     "metadata": {},
     "output_type": "execute_result"
    }
   ],
   "source": [
    "pd.read_sql(\"SELECT * FROM manufacturers\", con=con)"
   ],
   "metadata": {
    "collapsed": false,
    "ExecuteTime": {
     "end_time": "2024-03-23T13:00:49.294491Z",
     "start_time": "2024-03-23T13:00:49.117921Z"
    }
   },
   "id": "f9bae748a004b8d9",
   "execution_count": 27
  },
  {
   "cell_type": "code",
   "outputs": [],
   "source": [
    "cur.close()\n",
    "con.close()"
   ],
   "metadata": {
    "collapsed": false,
    "ExecuteTime": {
     "end_time": "2024-03-23T12:50:01.298839Z",
     "start_time": "2024-03-23T12:50:01.295276Z"
    }
   },
   "id": "f510bcb15ec4051",
   "execution_count": 23
  }
 ],
 "metadata": {
  "kernelspec": {
   "display_name": "Python 3",
   "language": "python",
   "name": "python3"
  },
  "language_info": {
   "codemirror_mode": {
    "name": "ipython",
    "version": 2
   },
   "file_extension": ".py",
   "mimetype": "text/x-python",
   "name": "python",
   "nbconvert_exporter": "python",
   "pygments_lexer": "ipython2",
   "version": "2.7.6"
  }
 },
 "nbformat": 4,
 "nbformat_minor": 5
}

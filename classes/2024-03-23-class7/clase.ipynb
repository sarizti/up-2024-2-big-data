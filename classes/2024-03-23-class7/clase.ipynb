{
 "cells": [
  {
   "cell_type": "code",
   "execution_count": 1,
   "id": "a2d4b42e099451fb",
   "metadata": {
    "collapsed": false,
    "ExecuteTime": {
     "end_time": "2024-03-23T12:38:13.103043Z",
     "start_time": "2024-03-23T12:38:13.076672Z"
    }
   },
   "outputs": [],
   "source": [
    "import mysql.connector"
   ]
  },
  {
   "cell_type": "markdown",
   "source": [
    "Mysql Connector\n",
    "===============\n",
    "\n",
    "Python library for running queries in Mysql.\n",
    "\n",
    "To see examples visit [this page](https://dev.mysql.com/doc/connector-python/en/connector-python-example-connecting.html)\n",
    "\n",
    "If you prefer to use colab for this exersice go to [my notebook](https://colab.research.google.com/drive/1QR986lODGbbuiBVMkeFwaNQNxx9Wfc-T)\n"
   ],
   "metadata": {
    "collapsed": false
   },
   "id": "33a1f65021b2813d"
  },
  {
   "cell_type": "code",
   "outputs": [],
   "source": [
    "con = mysql.connector.connect(\n",
    "  host=\"35.193.209.4\",\n",
    "  user=\"up\",\n",
    "  password=\"secret\",\n",
    "  database=\"up_2024_2_big_data\"\n",
    ")\n",
    "cur = con.cursor()"
   ],
   "metadata": {
    "collapsed": true,
    "ExecuteTime": {
     "end_time": "2024-03-23T12:39:32.007815Z",
     "start_time": "2024-03-23T12:39:31.646067Z"
    }
   },
   "id": "initial_id",
   "execution_count": 6
  },
  {
   "cell_type": "code",
   "outputs": [
    {
     "name": "stdout",
     "output_type": "stream",
     "text": [
      "ARUBA has 1 articles in the store.\n",
      "IMOU has 1 articles in the store.\n",
      "BROTHER has 5 articles in the store.\n",
      "SPARKFUN has 1 articles in the store.\n",
      "DELL has 184 articles in the store.\n",
      "LINKEDPRO has 6 articles in the store.\n",
      "StarTech.com has 7 articles in the store.\n",
      "ACCO has 2 articles in the store.\n",
      "LITE-ON has 1 articles in the store.\n",
      "ALIEN has 2 articles in the store.\n"
     ]
    }
   ],
   "source": [
    "query = \"\"\"\n",
    "SELECT m.title, count(a.id) AS art_count\n",
    "FROM articles a\n",
    "JOIN manufacturers m ON m.id=a.manufacturer_id\n",
    "GROUP BY m.id\n",
    "LIMIT 10\n",
    "\"\"\"\n",
    "cur.execute(query)\n",
    "\n",
    "for (title, art_count) in cur:\n",
    "  print(f\"{title} has {art_count} articles in the store.\")\n"
   ],
   "metadata": {
    "collapsed": false,
    "ExecuteTime": {
     "end_time": "2024-03-23T12:48:18.323630Z",
     "start_time": "2024-03-23T12:48:18.261237Z"
    }
   },
   "id": "42ce4b91fbc5dadd",
   "execution_count": 21
  },
  {
   "cell_type": "code",
   "outputs": [
    {
     "name": "stdout",
     "output_type": "stream",
     "text": [
      "ARUBA has 1 articles in the store.\n",
      "IMOU has 1 articles in the store.\n",
      "BROTHER has 5 articles in the store.\n",
      "SPARKFUN has 1 articles in the store.\n",
      "DELL has 184 articles in the store.\n",
      "LINKEDPRO has 6 articles in the store.\n",
      "StarTech.com has 7 articles in the store.\n",
      "ACCO has 2 articles in the store.\n",
      "LITE-ON has 1 articles in the store.\n",
      "ALIEN has 2 articles in the store.\n"
     ]
    }
   ],
   "source": [
    "cur.execute(query)\n",
    "rows = cur.fetchall()\n",
    "for (title, art_count) in rows:\n",
    "  print(f\"{title} has {art_count} articles in the store.\")"
   ],
   "metadata": {
    "collapsed": false,
    "ExecuteTime": {
     "end_time": "2024-03-23T12:49:56.465740Z",
     "start_time": "2024-03-23T12:49:56.402594Z"
    }
   },
   "id": "5a9d3bcb47519b13",
   "execution_count": 22
  },
  {
   "cell_type": "code",
   "outputs": [
    {
     "name": "stdout",
     "output_type": "stream",
     "text": [
      "HP has 298 products in the store.\n"
     ]
    }
   ],
   "source": [
    "brand = \"HP\"\n",
    "\n",
    "query = \"\"\"\n",
    "SELECT count(a.id) AS art_count\n",
    "FROM articles a\n",
    "JOIN manufacturers m ON m.id=a.manufacturer_id\n",
    "WHERE m.title=%s\n",
    "\"\"\"\n",
    "cur.execute(query, (brand,))\n",
    "\n",
    "art_count, = cur.fetchone()\n",
    "\n",
    "print(f\"{brand} has {art_count} products in the store.\")"
   ],
   "metadata": {
    "collapsed": false,
    "ExecuteTime": {
     "end_time": "2024-03-23T12:43:38.702468Z",
     "start_time": "2024-03-23T12:43:38.643954Z"
    }
   },
   "id": "8623dacfe7a87ad5",
   "execution_count": 16
  },
  {
   "cell_type": "code",
   "outputs": [
    {
     "data": {
      "text/plain": "[('HP', 298)]"
     },
     "execution_count": 14,
     "metadata": {},
     "output_type": "execute_result"
    }
   ],
   "source": [
    "cur.fetchall()"
   ],
   "metadata": {
    "collapsed": false,
    "ExecuteTime": {
     "end_time": "2024-03-23T12:42:57.884650Z",
     "start_time": "2024-03-23T12:42:57.878347Z"
    }
   },
   "id": "3c5020dd205b6166",
   "execution_count": 14
  },
  {
   "cell_type": "code",
   "outputs": [],
   "source": [
    "cur.close()\n",
    "con.close()"
   ],
   "metadata": {
    "collapsed": false,
    "ExecuteTime": {
     "end_time": "2024-03-23T12:50:01.298839Z",
     "start_time": "2024-03-23T12:50:01.295276Z"
    }
   },
   "id": "f510bcb15ec4051",
   "execution_count": 23
  }
 ],
 "metadata": {
  "kernelspec": {
   "display_name": "Python 3",
   "language": "python",
   "name": "python3"
  },
  "language_info": {
   "codemirror_mode": {
    "name": "ipython",
    "version": 2
   },
   "file_extension": ".py",
   "mimetype": "text/x-python",
   "name": "python",
   "nbconvert_exporter": "python",
   "pygments_lexer": "ipython2",
   "version": "2.7.6"
  }
 },
 "nbformat": 4,
 "nbformat_minor": 5
}
